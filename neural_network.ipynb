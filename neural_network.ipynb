{
  "nbformat": 4,
  "nbformat_minor": 0,
  "metadata": {
    "colab": {
      "provenance": [],
      "authorship_tag": "ABX9TyNSC2ckGK2UuFaM05trY3HM",
      "include_colab_link": true
    },
    "kernelspec": {
      "name": "python3",
      "display_name": "Python 3"
    },
    "language_info": {
      "name": "python"
    }
  },
  "cells": [
    {
      "cell_type": "markdown",
      "metadata": {
        "id": "view-in-github",
        "colab_type": "text"
      },
      "source": [
        "<a href=\"https://colab.research.google.com/github/katrinag2004/APIproject/blob/main/neural_network.ipynb\" target=\"_parent\"><img src=\"https://colab.research.google.com/assets/colab-badge.svg\" alt=\"Open In Colab\"/></a>"
      ]
    },
    {
      "cell_type": "code",
      "source": [
        "# Load the uploaded UFO dataset\n",
        "file_path = \"/content/ufo_clean_data (1).csv\"\n",
        "ufo_data = pd.read_csv(file_path)\n"
      ],
      "metadata": {
        "id": "B3qi0UV08MXT"
      },
      "execution_count": null,
      "outputs": []
    },
    {
      "cell_type": "code",
      "source": [
        "# Clean 'longitude' column name (remove trailing space)\n",
        "ufo_data = ufo_data.rename(columns={'longitude ': 'longitude'})\n",
        "\n",
        "# Create 'season' column based on 'month_num'\n",
        "ufo_data['season'] = ufo_data['month_num'].apply(month_to_season)\n",
        "\n",
        "# Drop rows with missing important info\n",
        "ufo_data_clean = ufo_data.dropna(subset=['duration (seconds)', 'latitude', 'longitude', 'country', 'shape'])\n",
        "\n",
        "# Log-transform duration\n",
        "ufo_data_clean['log_duration'] = np.log1p(ufo_data_clean['duration (seconds)'])\n"
      ],
      "metadata": {
        "id": "yiqFlO4P8RPN"
      },
      "execution_count": null,
      "outputs": []
    },
    {
      "cell_type": "code",
      "source": [
        "# Select features\n",
        "feature_cols = ['latitude', 'longitude', 'log_duration', 'country', 'shape']\n",
        "X = ufo_data_clean[feature_cols]\n",
        "y = ufo_data_clean['season']  # target\n",
        "\n",
        "# One-hot encode 'country' and 'shape'\n",
        "X_encoded = pd.get_dummies(X, columns=['country', 'shape'])\n"
      ],
      "metadata": {
        "id": "c31rjvKg4t4U"
      },
      "execution_count": null,
      "outputs": []
    },
    {
      "cell_type": "code",
      "source": [
        "from sklearn.model_selection import train_test_split\n",
        "from tensorflow.keras.models import Sequential\n",
        "from tensorflow.keras.layers import Dense\n",
        "from tensorflow.keras.utils import to_categorical\n",
        "from sklearn.preprocessing import LabelEncoder\n",
        "\n",
        "# Split into training and testing sets\n",
        "X_train, X_test, y_train, y_test = train_test_split(X_encoded, y, test_size=0.2, random_state=42)\n",
        "\n",
        "# Encode target labels\n",
        "le = LabelEncoder()\n",
        "y_train_enc = le.fit_transform(y_train)\n",
        "y_test_enc = le.transform(y_test)\n",
        "\n",
        "# Convert to categorical (one-hot output)\n",
        "y_train_cat = to_categorical(y_train_enc)\n",
        "y_test_cat = to_categorical(y_test_enc)\n",
        "\n",
        "# Build the model\n",
        "model = Sequential([\n",
        "    Dense(64, activation='relu', input_shape=(X_train.shape[1],)),\n",
        "    Dense(32, activation='relu'),\n",
        "    Dense(4, activation='softmax')  # 4 classes: Winter, Spring, Summer, Fall\n",
        "])\n",
        "\n",
        "# Compile\n",
        "model.compile(optimizer='adam', loss='categorical_crossentropy', metrics=['accuracy'])\n",
        "\n",
        "# Train\n",
        "history = model.fit(X_train, y_train_cat, epochs=20, batch_size=32, validation_split=0.2)\n"
      ],
      "metadata": {
        "colab": {
          "base_uri": "https://localhost:8080/"
        },
        "id": "OgJ-0QXY8XEg",
        "outputId": "347cdc2e-1234-4346-9f89-89dcce1734da"
      },
      "execution_count": null,
      "outputs": [
        {
          "output_type": "stream",
          "name": "stderr",
          "text": [
            "/usr/local/lib/python3.11/dist-packages/keras/src/layers/core/dense.py:87: UserWarning: Do not pass an `input_shape`/`input_dim` argument to a layer. When using Sequential models, prefer using an `Input(shape)` object as the first layer in the model instead.\n",
            "  super().__init__(activity_regularizer=activity_regularizer, **kwargs)\n"
          ]
        },
        {
          "output_type": "stream",
          "name": "stdout",
          "text": [
            "Epoch 1/20\n",
            "\u001b[1m1195/1195\u001b[0m \u001b[32m━━━━━━━━━━━━━━━━━━━━\u001b[0m\u001b[37m\u001b[0m \u001b[1m5s\u001b[0m 3ms/step - accuracy: 0.2917 - loss: 3.2153 - val_accuracy: 0.3260 - val_loss: 1.3965\n",
            "Epoch 2/20\n",
            "\u001b[1m1195/1195\u001b[0m \u001b[32m━━━━━━━━━━━━━━━━━━━━\u001b[0m\u001b[37m\u001b[0m \u001b[1m5s\u001b[0m 3ms/step - accuracy: 0.3026 - loss: 1.4128 - val_accuracy: 0.3124 - val_loss: 1.3858\n",
            "Epoch 3/20\n",
            "\u001b[1m1195/1195\u001b[0m \u001b[32m━━━━━━━━━━━━━━━━━━━━\u001b[0m\u001b[37m\u001b[0m \u001b[1m5s\u001b[0m 3ms/step - accuracy: 0.3120 - loss: 1.3962 - val_accuracy: 0.3249 - val_loss: 1.4011\n",
            "Epoch 4/20\n",
            "\u001b[1m1195/1195\u001b[0m \u001b[32m━━━━━━━━━━━━━━━━━━━━\u001b[0m\u001b[37m\u001b[0m \u001b[1m5s\u001b[0m 3ms/step - accuracy: 0.3176 - loss: 1.3823 - val_accuracy: 0.3194 - val_loss: 1.3693\n",
            "Epoch 5/20\n",
            "\u001b[1m1195/1195\u001b[0m \u001b[32m━━━━━━━━━━━━━━━━━━━━\u001b[0m\u001b[37m\u001b[0m \u001b[1m3s\u001b[0m 3ms/step - accuracy: 0.3150 - loss: 1.3832 - val_accuracy: 0.2713 - val_loss: 1.4029\n",
            "Epoch 6/20\n",
            "\u001b[1m1195/1195\u001b[0m \u001b[32m━━━━━━━━━━━━━━━━━━━━\u001b[0m\u001b[37m\u001b[0m \u001b[1m5s\u001b[0m 3ms/step - accuracy: 0.3185 - loss: 1.3700 - val_accuracy: 0.3201 - val_loss: 1.3613\n",
            "Epoch 7/20\n",
            "\u001b[1m1195/1195\u001b[0m \u001b[32m━━━━━━━━━━━━━━━━━━━━\u001b[0m\u001b[37m\u001b[0m \u001b[1m5s\u001b[0m 3ms/step - accuracy: 0.3358 - loss: 1.3562 - val_accuracy: 0.3236 - val_loss: 1.3609\n",
            "Epoch 8/20\n",
            "\u001b[1m1195/1195\u001b[0m \u001b[32m━━━━━━━━━━━━━━━━━━━━\u001b[0m\u001b[37m\u001b[0m \u001b[1m5s\u001b[0m 3ms/step - accuracy: 0.3380 - loss: 1.3545 - val_accuracy: 0.3233 - val_loss: 1.3621\n",
            "Epoch 9/20\n",
            "\u001b[1m1195/1195\u001b[0m \u001b[32m━━━━━━━━━━━━━━━━━━━━\u001b[0m\u001b[37m\u001b[0m \u001b[1m6s\u001b[0m 3ms/step - accuracy: 0.3349 - loss: 1.3547 - val_accuracy: 0.3231 - val_loss: 1.3637\n",
            "Epoch 10/20\n",
            "\u001b[1m1195/1195\u001b[0m \u001b[32m━━━━━━━━━━━━━━━━━━━━\u001b[0m\u001b[37m\u001b[0m \u001b[1m3s\u001b[0m 3ms/step - accuracy: 0.3332 - loss: 1.3554 - val_accuracy: 0.3257 - val_loss: 1.3640\n",
            "Epoch 11/20\n",
            "\u001b[1m1195/1195\u001b[0m \u001b[32m━━━━━━━━━━━━━━━━━━━━\u001b[0m\u001b[37m\u001b[0m \u001b[1m3s\u001b[0m 3ms/step - accuracy: 0.3361 - loss: 1.3544 - val_accuracy: 0.3230 - val_loss: 1.3631\n",
            "Epoch 12/20\n",
            "\u001b[1m1195/1195\u001b[0m \u001b[32m━━━━━━━━━━━━━━━━━━━━\u001b[0m\u001b[37m\u001b[0m \u001b[1m4s\u001b[0m 3ms/step - accuracy: 0.3368 - loss: 1.3552 - val_accuracy: 0.3192 - val_loss: 1.3615\n",
            "Epoch 13/20\n",
            "\u001b[1m1195/1195\u001b[0m \u001b[32m━━━━━━━━━━━━━━━━━━━━\u001b[0m\u001b[37m\u001b[0m \u001b[1m4s\u001b[0m 2ms/step - accuracy: 0.3291 - loss: 1.3577 - val_accuracy: 0.3231 - val_loss: 1.3662\n",
            "Epoch 14/20\n",
            "\u001b[1m1195/1195\u001b[0m \u001b[32m━━━━━━━━━━━━━━━━━━━━\u001b[0m\u001b[37m\u001b[0m \u001b[1m5s\u001b[0m 3ms/step - accuracy: 0.3321 - loss: 1.3570 - val_accuracy: 0.3245 - val_loss: 1.3603\n",
            "Epoch 15/20\n",
            "\u001b[1m1195/1195\u001b[0m \u001b[32m━━━━━━━━━━━━━━━━━━━━\u001b[0m\u001b[37m\u001b[0m \u001b[1m5s\u001b[0m 3ms/step - accuracy: 0.3345 - loss: 1.3553 - val_accuracy: 0.3217 - val_loss: 1.3603\n",
            "Epoch 16/20\n",
            "\u001b[1m1195/1195\u001b[0m \u001b[32m━━━━━━━━━━━━━━━━━━━━\u001b[0m\u001b[37m\u001b[0m \u001b[1m5s\u001b[0m 3ms/step - accuracy: 0.3362 - loss: 1.3560 - val_accuracy: 0.3205 - val_loss: 1.3593\n",
            "Epoch 17/20\n",
            "\u001b[1m1195/1195\u001b[0m \u001b[32m━━━━━━━━━━━━━━━━━━━━\u001b[0m\u001b[37m\u001b[0m \u001b[1m4s\u001b[0m 3ms/step - accuracy: 0.3284 - loss: 1.3542 - val_accuracy: 0.3240 - val_loss: 1.3588\n",
            "Epoch 18/20\n",
            "\u001b[1m1195/1195\u001b[0m \u001b[32m━━━━━━━━━━━━━━━━━━━━\u001b[0m\u001b[37m\u001b[0m \u001b[1m4s\u001b[0m 2ms/step - accuracy: 0.3370 - loss: 1.3531 - val_accuracy: 0.3209 - val_loss: 1.3603\n",
            "Epoch 19/20\n",
            "\u001b[1m1195/1195\u001b[0m \u001b[32m━━━━━━━━━━━━━━━━━━━━\u001b[0m\u001b[37m\u001b[0m \u001b[1m5s\u001b[0m 3ms/step - accuracy: 0.3337 - loss: 1.3554 - val_accuracy: 0.3248 - val_loss: 1.3587\n",
            "Epoch 20/20\n",
            "\u001b[1m1195/1195\u001b[0m \u001b[32m━━━━━━━━━━━━━━━━━━━━\u001b[0m\u001b[37m\u001b[0m \u001b[1m6s\u001b[0m 3ms/step - accuracy: 0.3339 - loss: 1.3556 - val_accuracy: 0.3239 - val_loss: 1.3579\n"
          ]
        }
      ]
    },
    {
      "cell_type": "code",
      "source": [
        "# 🛠 Full UFO Season Prediction Code 🛠\n",
        "\n",
        "import pandas as pd\n",
        "import numpy as np\n",
        "import matplotlib.pyplot as plt\n",
        "from sklearn.model_selection import train_test_split\n",
        "from sklearn.ensemble import RandomForestClassifier\n",
        "from sklearn.preprocessing import LabelEncoder\n",
        "from sklearn.metrics import classification_report, accuracy_score\n",
        "\n",
        "# Step 1: Load data\n",
        "file_path = \"/content/ufo_clean_data (1).csv\"\n",
        "ufo_data = pd.read_csv(file_path)\n",
        "\n",
        "# Step 2: Clean data\n",
        "ufo_data = ufo_data.rename(columns={'longitude ': 'longitude'})\n",
        "\n",
        "def month_to_season(month):\n",
        "    if month in [12, 1, 2]:\n",
        "        return 'Winter'\n",
        "    elif month in [3, 4, 5]:\n",
        "        return 'Spring'\n",
        "    elif month in [6, 7, 8]:\n",
        "        return 'Summer'\n",
        "    elif month in [9, 10, 11]:\n",
        "        return 'Fall'\n",
        "    else:\n",
        "        return 'Unknown'\n",
        "\n",
        "ufo_data['season'] = ufo_data['month_num'].apply(month_to_season)\n",
        "\n",
        "# Step 3: Drop missing values and engineer features\n",
        "ufo_data_clean = ufo_data.dropna(subset=['duration (seconds)', 'latitude', 'longitude', 'country', 'shape'])\n",
        "ufo_data_clean['log_duration'] = np.log1p(ufo_data_clean['duration (seconds)'])  # Safe log\n",
        "\n",
        "# Step 4: Prepare features and target\n",
        "feature_cols = ['latitude', 'longitude', 'log_duration', 'country', 'shape']\n",
        "X = ufo_data_clean[feature_cols]\n",
        "y = ufo_data_clean['season']\n",
        "\n",
        "# One-hot encode categorical features\n",
        "X_encoded = pd.get_dummies(X, columns=['country', 'shape'])\n",
        "\n",
        "# Step 5: Visualize class distribution\n",
        "season_counts = y.value_counts()\n",
        "\n",
        "plt.figure(figsize=(8, 5))\n",
        "season_counts.plot(kind='bar', color='skyblue')\n",
        "plt.title('Distribution of Seasons in UFO Sightings')\n",
        "plt.xlabel('Season')\n",
        "plt.ylabel('Count')\n",
        "plt.xticks(rotation=45)\n",
        "plt.grid(axis='y')\n",
        "plt.show()\n",
        "\n",
        "# Step 6: Train/test split\n",
        "X_train, X_test, y_train, y_test = train_test_split(X_encoded, y, test_size=0.2, random_state=42)\n",
        "\n",
        "# Step 7: Train Random Forest Classifier\n",
        "rf_model = RandomForestClassifier(n_estimators=100, random_state=42)\n",
        "rf_model.fit(X_train, y_train)\n",
        "\n",
        "# Step 8: Predict and evaluate\n",
        "y_pred_rf = rf_model.predict(X_test)\n",
        "rf_accuracy = accuracy_score(y_test, y_pred_rf)\n",
        "rf_classification_report = classification_report(y_test, y_pred_rf)\n",
        "\n",
        "# Step 9: Output results\n",
        "print(f\"Random Forest Accuracy: {rf_accuracy:.4f}\\n\")\n",
        "print(\"Classification Report:\\n\")\n",
        "print(rf_classification_report)\n"
      ],
      "metadata": {
        "colab": {
          "base_uri": "https://localhost:8080/",
          "height": 793
        },
        "id": "OA3enXso95aG",
        "outputId": "c7d7e97e-1a98-4db4-c80e-1adfb844f59b"
      },
      "execution_count": null,
      "outputs": [
        {
          "output_type": "display_data",
          "data": {
            "text/plain": [
              "<Figure size 800x500 with 1 Axes>"
            ],
            "image/png": "[encoded data removed]"
          },
          "metadata": {}
        },
        {
          "output_type": "stream",
          "name": "stdout",
          "text": [
            "Random Forest Accuracy: 0.3159\n",
            "\n",
            "Classification Report:\n",
            "\n",
            "              precision    recall  f1-score   support\n",
            "\n",
            "        Fall       0.31      0.32      0.32      3260\n",
            "      Spring       0.24      0.18      0.21      2434\n",
            "      Summer       0.37      0.45      0.41      3907\n",
            "      Winter       0.26      0.22      0.24      2342\n",
            "\n",
            "    accuracy                           0.32     11943\n",
            "   macro avg       0.30      0.29      0.29     11943\n",
            "weighted avg       0.31      0.32      0.31     11943\n",
            "\n"
          ]
        }
      ]
    },
    {
      "cell_type": "markdown",
      "source": [
        "              precision    recall  f1-score   support\n",
        "\n",
        "Fall         0.31         0.32     0.32       3260\n",
        "Spring       0.24         0.18     0.21       2434\n",
        "Summer       0.37         0.45     0.41       3907\n",
        "Winter       0.26         0.22     0.24       2342\n",
        "\n",
        "accuracy                             0.32     11943\n",
        "macro avg      0.30     0.29     0.29     11943\n",
        "weighted avg   0.31     0.32     0.31     11943\n"
      ],
      "metadata": {
        "id": "9jQ2RBqS-zUn"
      }
    },
    {
      "cell_type": "markdown",
      "source": [],
      "metadata": {
        "id": "ZlVtpSzXT643"
      }
    },
    {
      "cell_type": "markdown",
      "source": [
        "| **Season (Class)** | **Precision** | **Recall** | **F1-Score** |\n",
        "|:-------------------|:--------------:|:----------:|:------------:|\n",
        "| **Fall**            | 25%            | 20%        | 22%          |\n",
        "| **Spring**          | 15%            | 10%        | 12%          |\n",
        "| **Summer**          | 35%            | 80%        | 49%          |\n",
        "| **Winter**          | 15%            | 10%        | 12%          |"
      ],
      "metadata": {
        "id": "OPKejyWcT7xt"
      }
    }
  ]
}